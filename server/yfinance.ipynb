{
 "cells": [
  {
   "cell_type": "markdown",
   "id": "d0c8bde4",
   "metadata": {},
   "source": []
  },
  {
   "cell_type": "markdown",
   "id": "f485daf6",
   "metadata": {},
   "source": [
    "## Importing Libraries "
   ]
  },
  {
   "cell_type": "code",
   "execution_count": 3,
   "id": "bf87616c",
   "metadata": {},
   "outputs": [],
   "source": [
    "import pandas as pd\n",
    "import plotly.graph_objects as go #built on javascript, can be used on front end \n",
    "from plotly.subplots import make_subplots\n",
    "import yfinance as yf\n",
    "from datetime import datetime"
   ]
  },
  {
   "cell_type": "markdown",
   "id": "9b6fb5c2",
   "metadata": {},
   "source": [
    "## Main Components:\n",
    "**Ticker**: single ticker data\n",
    "\n",
    "**Tickers**: multiple tickers' data\n",
    "\n",
    "**download**: download market data for multiple tickers\n",
    "\n",
    "**Market**: get information about a market\n",
    "\n",
    "**WebSocket and AsyncWebSocket**: live streaming data\n",
    "\n",
    "**Search**: quotes and news from search\n",
    "\n",
    "**Sector and Industry**: sector and industry information\n",
    "\n",
    "**EquityQuery and Screener**: build query to screen market\n"
   ]
  },
  {
   "cell_type": "markdown",
   "id": "04ff4f94",
   "metadata": {},
   "source": [
    "## Getting data for a ticker"
   ]
  },
  {
   "cell_type": "code",
   "execution_count": 13,
   "id": "1208e083",
   "metadata": {},
   "outputs": [
    {
     "name": "stdout",
     "output_type": "stream",
     "text": [
      "yfinance.Ticker object <AAPL>\n"
     ]
    }
   ],
   "source": [
    "ticker_symbol ='AAPL'\n",
    "\n",
    "ticker = yf.Ticker(ticker_symbol)\n",
    "print(ticker)\n",
    "\n"
   ]
  },
  {
   "cell_type": "markdown",
   "id": "c260f50e",
   "metadata": {},
   "source": [
    "## Fetching Historical Data "
   ]
  },
  {
   "cell_type": "code",
   "execution_count": 12,
   "id": "59fb19b4",
   "metadata": {},
   "outputs": [
    {
     "ename": "YFRateLimitError",
     "evalue": "Too Many Requests. Rate limited. Try after a while.",
     "output_type": "error",
     "traceback": [
      "\u001b[31m---------------------------------------------------------------------------\u001b[39m",
      "\u001b[31mYFRateLimitError\u001b[39m                          Traceback (most recent call last)",
      "\u001b[36mCell\u001b[39m\u001b[36m \u001b[39m\u001b[32mIn[12]\u001b[39m\u001b[32m, line 1\u001b[39m\n\u001b[32m----> \u001b[39m\u001b[32m1\u001b[39m historical_data = \u001b[43mticker\u001b[49m\u001b[43m.\u001b[49m\u001b[43mhistory\u001b[49m\u001b[43m(\u001b[49m\u001b[43mperiod\u001b[49m\u001b[43m=\u001b[49m\u001b[33;43m\"\u001b[39;49m\u001b[33;43m5y\u001b[39;49m\u001b[33;43m\"\u001b[39;49m\u001b[43m)\u001b[49m\n\u001b[32m      2\u001b[39m \u001b[38;5;28mprint\u001b[39m(historical_data)\n",
      "\u001b[36mFile \u001b[39m\u001b[32mc:\\ProgramData\\anaconda3\\envs\\wrangling\\Lib\\site-packages\\yfinance\\utils.py:103\u001b[39m, in \u001b[36mlog_indent_decorator.<locals>.wrapper\u001b[39m\u001b[34m(*args, **kwargs)\u001b[39m\n\u001b[32m    100\u001b[39m logger.debug(\u001b[33mf\u001b[39m\u001b[33m'\u001b[39m\u001b[33mEntering \u001b[39m\u001b[38;5;132;01m{\u001b[39;00mfunc.\u001b[34m__name__\u001b[39m\u001b[38;5;132;01m}\u001b[39;00m\u001b[33m()\u001b[39m\u001b[33m'\u001b[39m)\n\u001b[32m    102\u001b[39m \u001b[38;5;28;01mwith\u001b[39;00m IndentationContext():\n\u001b[32m--> \u001b[39m\u001b[32m103\u001b[39m     result = \u001b[43mfunc\u001b[49m\u001b[43m(\u001b[49m\u001b[43m*\u001b[49m\u001b[43margs\u001b[49m\u001b[43m,\u001b[49m\u001b[43m \u001b[49m\u001b[43m*\u001b[49m\u001b[43m*\u001b[49m\u001b[43mkwargs\u001b[49m\u001b[43m)\u001b[49m\n\u001b[32m    105\u001b[39m logger.debug(\u001b[33mf\u001b[39m\u001b[33m'\u001b[39m\u001b[33mExiting \u001b[39m\u001b[38;5;132;01m{\u001b[39;00mfunc.\u001b[34m__name__\u001b[39m\u001b[38;5;132;01m}\u001b[39;00m\u001b[33m()\u001b[39m\u001b[33m'\u001b[39m)\n\u001b[32m    106\u001b[39m \u001b[38;5;28;01mreturn\u001b[39;00m result\n",
      "\u001b[36mFile \u001b[39m\u001b[32mc:\\ProgramData\\anaconda3\\envs\\wrangling\\Lib\\site-packages\\yfinance\\base.py:91\u001b[39m, in \u001b[36mTickerBase.history\u001b[39m\u001b[34m(self, *args, **kwargs)\u001b[39m\n\u001b[32m     89\u001b[39m \u001b[38;5;129m@utils\u001b[39m.log_indent_decorator\n\u001b[32m     90\u001b[39m \u001b[38;5;28;01mdef\u001b[39;00m\u001b[38;5;250m \u001b[39m\u001b[34mhistory\u001b[39m(\u001b[38;5;28mself\u001b[39m, *args, **kwargs) -> pd.DataFrame:\n\u001b[32m---> \u001b[39m\u001b[32m91\u001b[39m     \u001b[38;5;28;01mreturn\u001b[39;00m \u001b[38;5;28;43mself\u001b[39;49m\u001b[43m.\u001b[49m\u001b[43m_lazy_load_price_history\u001b[49m\u001b[43m(\u001b[49m\u001b[43m)\u001b[49m\u001b[43m.\u001b[49m\u001b[43mhistory\u001b[49m\u001b[43m(\u001b[49m\u001b[43m*\u001b[49m\u001b[43margs\u001b[49m\u001b[43m,\u001b[49m\u001b[43m \u001b[49m\u001b[43m*\u001b[49m\u001b[43m*\u001b[49m\u001b[43mkwargs\u001b[49m\u001b[43m)\u001b[49m\n",
      "\u001b[36mFile \u001b[39m\u001b[32mc:\\ProgramData\\anaconda3\\envs\\wrangling\\Lib\\site-packages\\yfinance\\utils.py:103\u001b[39m, in \u001b[36mlog_indent_decorator.<locals>.wrapper\u001b[39m\u001b[34m(*args, **kwargs)\u001b[39m\n\u001b[32m    100\u001b[39m logger.debug(\u001b[33mf\u001b[39m\u001b[33m'\u001b[39m\u001b[33mEntering \u001b[39m\u001b[38;5;132;01m{\u001b[39;00mfunc.\u001b[34m__name__\u001b[39m\u001b[38;5;132;01m}\u001b[39;00m\u001b[33m()\u001b[39m\u001b[33m'\u001b[39m)\n\u001b[32m    102\u001b[39m \u001b[38;5;28;01mwith\u001b[39;00m IndentationContext():\n\u001b[32m--> \u001b[39m\u001b[32m103\u001b[39m     result = \u001b[43mfunc\u001b[49m\u001b[43m(\u001b[49m\u001b[43m*\u001b[49m\u001b[43margs\u001b[49m\u001b[43m,\u001b[49m\u001b[43m \u001b[49m\u001b[43m*\u001b[49m\u001b[43m*\u001b[49m\u001b[43mkwargs\u001b[49m\u001b[43m)\u001b[49m\n\u001b[32m    105\u001b[39m logger.debug(\u001b[33mf\u001b[39m\u001b[33m'\u001b[39m\u001b[33mExiting \u001b[39m\u001b[38;5;132;01m{\u001b[39;00mfunc.\u001b[34m__name__\u001b[39m\u001b[38;5;132;01m}\u001b[39;00m\u001b[33m()\u001b[39m\u001b[33m'\u001b[39m)\n\u001b[32m    106\u001b[39m \u001b[38;5;28;01mreturn\u001b[39;00m result\n",
      "\u001b[36mFile \u001b[39m\u001b[32mc:\\ProgramData\\anaconda3\\envs\\wrangling\\Lib\\site-packages\\yfinance\\scrapers\\history.py:178\u001b[39m, in \u001b[36mPriceHistory.history\u001b[39m\u001b[34m(self, period, interval, start, end, prepost, actions, auto_adjust, back_adjust, repair, keepna, proxy, rounding, timeout, raise_errors)\u001b[39m\n\u001b[32m    176\u001b[39m         get_fn = \u001b[38;5;28mself\u001b[39m._data.cache_get\n\u001b[32m    177\u001b[39m \u001b[38;5;28;01mtry\u001b[39;00m:\n\u001b[32m--> \u001b[39m\u001b[32m178\u001b[39m     data = \u001b[43mget_fn\u001b[49m\u001b[43m(\u001b[49m\n\u001b[32m    179\u001b[39m \u001b[43m        \u001b[49m\u001b[43murl\u001b[49m\u001b[43m=\u001b[49m\u001b[43murl\u001b[49m\u001b[43m,\u001b[49m\n\u001b[32m    180\u001b[39m \u001b[43m        \u001b[49m\u001b[43mparams\u001b[49m\u001b[43m=\u001b[49m\u001b[43mparams\u001b[49m\u001b[43m,\u001b[49m\n\u001b[32m    181\u001b[39m \u001b[43m        \u001b[49m\u001b[43mtimeout\u001b[49m\u001b[43m=\u001b[49m\u001b[43mtimeout\u001b[49m\n\u001b[32m    182\u001b[39m \u001b[43m    \u001b[49m\u001b[43m)\u001b[49m\n\u001b[32m    183\u001b[39m     \u001b[38;5;28;01mif\u001b[39;00m \u001b[33m\"\u001b[39m\u001b[33mWill be right back\u001b[39m\u001b[33m\"\u001b[39m \u001b[38;5;129;01min\u001b[39;00m data.text \u001b[38;5;129;01mor\u001b[39;00m data \u001b[38;5;129;01mis\u001b[39;00m \u001b[38;5;28;01mNone\u001b[39;00m:\n\u001b[32m    184\u001b[39m         \u001b[38;5;28;01mraise\u001b[39;00m \u001b[38;5;167;01mRuntimeError\u001b[39;00m(\u001b[33m\"\u001b[39m\u001b[33m*** YAHOO! FINANCE IS CURRENTLY DOWN! ***\u001b[39m\u001b[38;5;130;01m\\n\u001b[39;00m\u001b[33m\"\u001b[39m\n\u001b[32m    185\u001b[39m                            \u001b[33m\"\u001b[39m\u001b[33mOur engineers are working quickly to resolve \u001b[39m\u001b[33m\"\u001b[39m\n\u001b[32m    186\u001b[39m                            \u001b[33m\"\u001b[39m\u001b[33mthe issue. Thank you for your patience.\u001b[39m\u001b[33m\"\u001b[39m)\n",
      "\u001b[36mFile \u001b[39m\u001b[32mc:\\ProgramData\\anaconda3\\envs\\wrangling\\Lib\\site-packages\\yfinance\\utils.py:103\u001b[39m, in \u001b[36mlog_indent_decorator.<locals>.wrapper\u001b[39m\u001b[34m(*args, **kwargs)\u001b[39m\n\u001b[32m    100\u001b[39m logger.debug(\u001b[33mf\u001b[39m\u001b[33m'\u001b[39m\u001b[33mEntering \u001b[39m\u001b[38;5;132;01m{\u001b[39;00mfunc.\u001b[34m__name__\u001b[39m\u001b[38;5;132;01m}\u001b[39;00m\u001b[33m()\u001b[39m\u001b[33m'\u001b[39m)\n\u001b[32m    102\u001b[39m \u001b[38;5;28;01mwith\u001b[39;00m IndentationContext():\n\u001b[32m--> \u001b[39m\u001b[32m103\u001b[39m     result = \u001b[43mfunc\u001b[49m\u001b[43m(\u001b[49m\u001b[43m*\u001b[49m\u001b[43margs\u001b[49m\u001b[43m,\u001b[49m\u001b[43m \u001b[49m\u001b[43m*\u001b[49m\u001b[43m*\u001b[49m\u001b[43mkwargs\u001b[49m\u001b[43m)\u001b[49m\n\u001b[32m    105\u001b[39m logger.debug(\u001b[33mf\u001b[39m\u001b[33m'\u001b[39m\u001b[33mExiting \u001b[39m\u001b[38;5;132;01m{\u001b[39;00mfunc.\u001b[34m__name__\u001b[39m\u001b[38;5;132;01m}\u001b[39;00m\u001b[33m()\u001b[39m\u001b[33m'\u001b[39m)\n\u001b[32m    106\u001b[39m \u001b[38;5;28;01mreturn\u001b[39;00m result\n",
      "\u001b[36mFile \u001b[39m\u001b[32mc:\\ProgramData\\anaconda3\\envs\\wrangling\\Lib\\site-packages\\yfinance\\data.py:364\u001b[39m, in \u001b[36mYfData.get\u001b[39m\u001b[34m(self, url, user_agent_headers, params, timeout)\u001b[39m\n\u001b[32m    362\u001b[39m \u001b[38;5;129m@utils\u001b[39m.log_indent_decorator\n\u001b[32m    363\u001b[39m \u001b[38;5;28;01mdef\u001b[39;00m\u001b[38;5;250m \u001b[39m\u001b[34mget\u001b[39m(\u001b[38;5;28mself\u001b[39m, url, user_agent_headers=\u001b[38;5;28;01mNone\u001b[39;00m, params=\u001b[38;5;28;01mNone\u001b[39;00m, timeout=\u001b[32m30\u001b[39m):\n\u001b[32m--> \u001b[39m\u001b[32m364\u001b[39m     \u001b[38;5;28;01mreturn\u001b[39;00m \u001b[38;5;28;43mself\u001b[39;49m\u001b[43m.\u001b[49m\u001b[43m_make_request\u001b[49m\u001b[43m(\u001b[49m\u001b[43murl\u001b[49m\u001b[43m,\u001b[49m\u001b[43m \u001b[49m\u001b[43mrequest_method\u001b[49m\u001b[43m \u001b[49m\u001b[43m=\u001b[49m\u001b[43m \u001b[49m\u001b[38;5;28;43mself\u001b[39;49m\u001b[43m.\u001b[49m\u001b[43m_session\u001b[49m\u001b[43m.\u001b[49m\u001b[43mget\u001b[49m\u001b[43m,\u001b[49m\u001b[43m \u001b[49m\u001b[43muser_agent_headers\u001b[49m\u001b[43m=\u001b[49m\u001b[43muser_agent_headers\u001b[49m\u001b[43m,\u001b[49m\u001b[43m \u001b[49m\u001b[43mparams\u001b[49m\u001b[43m=\u001b[49m\u001b[43mparams\u001b[49m\u001b[43m,\u001b[49m\u001b[43m \u001b[49m\u001b[43mtimeout\u001b[49m\u001b[43m=\u001b[49m\u001b[43mtimeout\u001b[49m\u001b[43m)\u001b[49m\n",
      "\u001b[36mFile \u001b[39m\u001b[32mc:\\ProgramData\\anaconda3\\envs\\wrangling\\Lib\\site-packages\\yfinance\\utils.py:103\u001b[39m, in \u001b[36mlog_indent_decorator.<locals>.wrapper\u001b[39m\u001b[34m(*args, **kwargs)\u001b[39m\n\u001b[32m    100\u001b[39m logger.debug(\u001b[33mf\u001b[39m\u001b[33m'\u001b[39m\u001b[33mEntering \u001b[39m\u001b[38;5;132;01m{\u001b[39;00mfunc.\u001b[34m__name__\u001b[39m\u001b[38;5;132;01m}\u001b[39;00m\u001b[33m()\u001b[39m\u001b[33m'\u001b[39m)\n\u001b[32m    102\u001b[39m \u001b[38;5;28;01mwith\u001b[39;00m IndentationContext():\n\u001b[32m--> \u001b[39m\u001b[32m103\u001b[39m     result = \u001b[43mfunc\u001b[49m\u001b[43m(\u001b[49m\u001b[43m*\u001b[49m\u001b[43margs\u001b[49m\u001b[43m,\u001b[49m\u001b[43m \u001b[49m\u001b[43m*\u001b[49m\u001b[43m*\u001b[49m\u001b[43mkwargs\u001b[49m\u001b[43m)\u001b[49m\n\u001b[32m    105\u001b[39m logger.debug(\u001b[33mf\u001b[39m\u001b[33m'\u001b[39m\u001b[33mExiting \u001b[39m\u001b[38;5;132;01m{\u001b[39;00mfunc.\u001b[34m__name__\u001b[39m\u001b[38;5;132;01m}\u001b[39;00m\u001b[33m()\u001b[39m\u001b[33m'\u001b[39m)\n\u001b[32m    106\u001b[39m \u001b[38;5;28;01mreturn\u001b[39;00m result\n",
      "\u001b[36mFile \u001b[39m\u001b[32mc:\\ProgramData\\anaconda3\\envs\\wrangling\\Lib\\site-packages\\yfinance\\data.py:424\u001b[39m, in \u001b[36mYfData._make_request\u001b[39m\u001b[34m(self, url, request_method, user_agent_headers, body, params, timeout)\u001b[39m\n\u001b[32m    422\u001b[39m     \u001b[38;5;66;03m# Raise exception if rate limited\u001b[39;00m\n\u001b[32m    423\u001b[39m     \u001b[38;5;28;01mif\u001b[39;00m response.status_code == \u001b[32m429\u001b[39m:\n\u001b[32m--> \u001b[39m\u001b[32m424\u001b[39m         \u001b[38;5;28;01mraise\u001b[39;00m YFRateLimitError()\n\u001b[32m    426\u001b[39m \u001b[38;5;28;01mreturn\u001b[39;00m response\n",
      "\u001b[31mYFRateLimitError\u001b[39m: Too Many Requests. Rate limited. Try after a while."
     ]
    }
   ],
   "source": [
    "historical_data = ticker.history(period=\"5y\")\n",
    "print(historical_data)\n",
    "\n",
    "\n",
    "\n",
    "\n"
   ]
  },
  {
   "cell_type": "code",
   "execution_count": null,
   "id": "7e72b89f",
   "metadata": {},
   "outputs": [],
   "source": [
    "#Plotly documentation on plotting financial charts: https://plotly.com/python/candlestick-charts/ \n",
    "\n",
    "fig = go.Figure(data=[\n",
    "    go.candlestick(\n",
    "        x = historical_data['Date'],\n",
    "        open = historical_data['Open'],\n",
    "        close = historical_data['Close'],\n",
    "        high = historical_data['High'],\n",
    "        low = historical_data['Low']\n",
    "    )\n",
    "])\n",
    "\n",
    "fig.show()"
   ]
  },
  {
   "cell_type": "markdown",
   "id": "55648ceb",
   "metadata": {},
   "source": [
    "## \"Real time quotes\" -> this can be delayed by up to 15 minutes  "
   ]
  },
  {
   "cell_type": "code",
   "execution_count": 64,
   "id": "041972c8",
   "metadata": {},
   "outputs": [
    {
     "data": {
      "text/plain": [
       "np.float64(214.50999450683594)"
      ]
     },
     "execution_count": 64,
     "metadata": {},
     "output_type": "execute_result"
    }
   ],
   "source": [
    "historical_data['Close'].iloc[-1]\n"
   ]
  },
  {
   "cell_type": "markdown",
   "id": "bf9c22a5",
   "metadata": {},
   "source": [
    "## Fetching Financials"
   ]
  },
  {
   "cell_type": "code",
   "execution_count": 18,
   "id": "3b6286c6",
   "metadata": {},
   "outputs": [
    {
     "name": "stdout",
     "output_type": "stream",
     "text": [
      "                                                        2024-09-30  \\\n",
      "Tax Effect Of Unusual Items                                    0.0   \n",
      "Tax Rate For Calcs                                           0.241   \n",
      "Normalized EBITDA                                   134661000000.0   \n",
      "Net Income From Continuing Operation Net Minori...   93736000000.0   \n",
      "Reconciled Depreciation                              11445000000.0   \n",
      "Reconciled Cost Of Revenue                          210352000000.0   \n",
      "EBITDA                                              134661000000.0   \n",
      "EBIT                                                123216000000.0   \n",
      "Net Interest Income                                            NaN   \n",
      "Interest Expense                                               NaN   \n",
      "Interest Income                                                NaN   \n",
      "Normalized Income                                    93736000000.0   \n",
      "Net Income From Continuing And Discontinued Ope...   93736000000.0   \n",
      "Total Expenses                                      267819000000.0   \n",
      "Total Operating Income As Reported                  123216000000.0   \n",
      "Diluted Average Shares                               15408095000.0   \n",
      "Basic Average Shares                                 15343783000.0   \n",
      "Diluted EPS                                                   6.08   \n",
      "Basic EPS                                                     6.11   \n",
      "Diluted NI Availto Com Stockholders                  93736000000.0   \n",
      "Net Income Common Stockholders                       93736000000.0   \n",
      "Net Income                                           93736000000.0   \n",
      "Net Income Including Noncontrolling Interests        93736000000.0   \n",
      "Net Income Continuous Operations                     93736000000.0   \n",
      "Tax Provision                                        29749000000.0   \n",
      "Pretax Income                                       123485000000.0   \n",
      "Other Income Expense                                   269000000.0   \n",
      "Other Non Operating Income Expenses                    269000000.0   \n",
      "Net Non Operating Interest Income Expense                      NaN   \n",
      "Interest Expense Non Operating                                 NaN   \n",
      "Interest Income Non Operating                                  NaN   \n",
      "Operating Income                                    123216000000.0   \n",
      "Operating Expense                                    57467000000.0   \n",
      "Research And Development                             31370000000.0   \n",
      "Selling General And Administration                   26097000000.0   \n",
      "Gross Profit                                        180683000000.0   \n",
      "Cost Of Revenue                                     210352000000.0   \n",
      "Total Revenue                                       391035000000.0   \n",
      "Operating Revenue                                   391035000000.0   \n",
      "\n",
      "                                                        2023-09-30  \\\n",
      "Tax Effect Of Unusual Items                                    0.0   \n",
      "Tax Rate For Calcs                                           0.147   \n",
      "Normalized EBITDA                                   125820000000.0   \n",
      "Net Income From Continuing Operation Net Minori...   96995000000.0   \n",
      "Reconciled Depreciation                              11519000000.0   \n",
      "Reconciled Cost Of Revenue                          214137000000.0   \n",
      "EBITDA                                              125820000000.0   \n",
      "EBIT                                                114301000000.0   \n",
      "Net Interest Income                                   -183000000.0   \n",
      "Interest Expense                                      3933000000.0   \n",
      "Interest Income                                       3750000000.0   \n",
      "Normalized Income                                    96995000000.0   \n",
      "Net Income From Continuing And Discontinued Ope...   96995000000.0   \n",
      "Total Expenses                                      268984000000.0   \n",
      "Total Operating Income As Reported                  114301000000.0   \n",
      "Diluted Average Shares                               15812547000.0   \n",
      "Basic Average Shares                                 15744231000.0   \n",
      "Diluted EPS                                                   6.13   \n",
      "Basic EPS                                                     6.16   \n",
      "Diluted NI Availto Com Stockholders                  96995000000.0   \n",
      "Net Income Common Stockholders                       96995000000.0   \n",
      "Net Income                                           96995000000.0   \n",
      "Net Income Including Noncontrolling Interests        96995000000.0   \n",
      "Net Income Continuous Operations                     96995000000.0   \n",
      "Tax Provision                                        16741000000.0   \n",
      "Pretax Income                                       113736000000.0   \n",
      "Other Income Expense                                  -565000000.0   \n",
      "Other Non Operating Income Expenses                   -565000000.0   \n",
      "Net Non Operating Interest Income Expense             -183000000.0   \n",
      "Interest Expense Non Operating                        3933000000.0   \n",
      "Interest Income Non Operating                         3750000000.0   \n",
      "Operating Income                                    114301000000.0   \n",
      "Operating Expense                                    54847000000.0   \n",
      "Research And Development                             29915000000.0   \n",
      "Selling General And Administration                   24932000000.0   \n",
      "Gross Profit                                        169148000000.0   \n",
      "Cost Of Revenue                                     214137000000.0   \n",
      "Total Revenue                                       383285000000.0   \n",
      "Operating Revenue                                   383285000000.0   \n",
      "\n",
      "                                                        2022-09-30  \\\n",
      "Tax Effect Of Unusual Items                                    0.0   \n",
      "Tax Rate For Calcs                                           0.162   \n",
      "Normalized EBITDA                                   130541000000.0   \n",
      "Net Income From Continuing Operation Net Minori...   99803000000.0   \n",
      "Reconciled Depreciation                              11104000000.0   \n",
      "Reconciled Cost Of Revenue                          223546000000.0   \n",
      "EBITDA                                              130541000000.0   \n",
      "EBIT                                                119437000000.0   \n",
      "Net Interest Income                                   -106000000.0   \n",
      "Interest Expense                                      2931000000.0   \n",
      "Interest Income                                       2825000000.0   \n",
      "Normalized Income                                    99803000000.0   \n",
      "Net Income From Continuing And Discontinued Ope...   99803000000.0   \n",
      "Total Expenses                                      274891000000.0   \n",
      "Total Operating Income As Reported                  119437000000.0   \n",
      "Diluted Average Shares                               16325819000.0   \n",
      "Basic Average Shares                                 16215963000.0   \n",
      "Diluted EPS                                                   6.11   \n",
      "Basic EPS                                                     6.15   \n",
      "Diluted NI Availto Com Stockholders                  99803000000.0   \n",
      "Net Income Common Stockholders                       99803000000.0   \n",
      "Net Income                                           99803000000.0   \n",
      "Net Income Including Noncontrolling Interests        99803000000.0   \n",
      "Net Income Continuous Operations                     99803000000.0   \n",
      "Tax Provision                                        19300000000.0   \n",
      "Pretax Income                                       119103000000.0   \n",
      "Other Income Expense                                  -334000000.0   \n",
      "Other Non Operating Income Expenses                   -334000000.0   \n",
      "Net Non Operating Interest Income Expense             -106000000.0   \n",
      "Interest Expense Non Operating                        2931000000.0   \n",
      "Interest Income Non Operating                         2825000000.0   \n",
      "Operating Income                                    119437000000.0   \n",
      "Operating Expense                                    51345000000.0   \n",
      "Research And Development                             26251000000.0   \n",
      "Selling General And Administration                   25094000000.0   \n",
      "Gross Profit                                        170782000000.0   \n",
      "Cost Of Revenue                                     223546000000.0   \n",
      "Total Revenue                                       394328000000.0   \n",
      "Operating Revenue                                   394328000000.0   \n",
      "\n",
      "                                                        2021-09-30  \\\n",
      "Tax Effect Of Unusual Items                                    0.0   \n",
      "Tax Rate For Calcs                                           0.133   \n",
      "Normalized EBITDA                                   123136000000.0   \n",
      "Net Income From Continuing Operation Net Minori...   94680000000.0   \n",
      "Reconciled Depreciation                              11284000000.0   \n",
      "Reconciled Cost Of Revenue                          212981000000.0   \n",
      "EBITDA                                              123136000000.0   \n",
      "EBIT                                                111852000000.0   \n",
      "Net Interest Income                                    198000000.0   \n",
      "Interest Expense                                      2645000000.0   \n",
      "Interest Income                                       2843000000.0   \n",
      "Normalized Income                                    94680000000.0   \n",
      "Net Income From Continuing And Discontinued Ope...   94680000000.0   \n",
      "Total Expenses                                      256868000000.0   \n",
      "Total Operating Income As Reported                  108949000000.0   \n",
      "Diluted Average Shares                               16864919000.0   \n",
      "Basic Average Shares                                 16701272000.0   \n",
      "Diluted EPS                                                   5.61   \n",
      "Basic EPS                                                     5.67   \n",
      "Diluted NI Availto Com Stockholders                  94680000000.0   \n",
      "Net Income Common Stockholders                       94680000000.0   \n",
      "Net Income                                           94680000000.0   \n",
      "Net Income Including Noncontrolling Interests        94680000000.0   \n",
      "Net Income Continuous Operations                     94680000000.0   \n",
      "Tax Provision                                        14527000000.0   \n",
      "Pretax Income                                       109207000000.0   \n",
      "Other Income Expense                                    60000000.0   \n",
      "Other Non Operating Income Expenses                     60000000.0   \n",
      "Net Non Operating Interest Income Expense              198000000.0   \n",
      "Interest Expense Non Operating                        2645000000.0   \n",
      "Interest Income Non Operating                         2843000000.0   \n",
      "Operating Income                                    108949000000.0   \n",
      "Operating Expense                                    43887000000.0   \n",
      "Research And Development                             21914000000.0   \n",
      "Selling General And Administration                   21973000000.0   \n",
      "Gross Profit                                        152836000000.0   \n",
      "Cost Of Revenue                                     212981000000.0   \n",
      "Total Revenue                                       365817000000.0   \n",
      "Operating Revenue                                   365817000000.0   \n",
      "\n",
      "                                                      2020-09-30  \n",
      "Tax Effect Of Unusual Items                                  NaN  \n",
      "Tax Rate For Calcs                                           NaN  \n",
      "Normalized EBITDA                                            NaN  \n",
      "Net Income From Continuing Operation Net Minori...           NaN  \n",
      "Reconciled Depreciation                                      NaN  \n",
      "Reconciled Cost Of Revenue                                   NaN  \n",
      "EBITDA                                                       NaN  \n",
      "EBIT                                                         NaN  \n",
      "Net Interest Income                                  890000000.0  \n",
      "Interest Expense                                    2873000000.0  \n",
      "Interest Income                                     3763000000.0  \n",
      "Normalized Income                                            NaN  \n",
      "Net Income From Continuing And Discontinued Ope...           NaN  \n",
      "Total Expenses                                               NaN  \n",
      "Total Operating Income As Reported                           NaN  \n",
      "Diluted Average Shares                                       NaN  \n",
      "Basic Average Shares                                         NaN  \n",
      "Diluted EPS                                                  NaN  \n",
      "Basic EPS                                                    NaN  \n",
      "Diluted NI Availto Com Stockholders                          NaN  \n",
      "Net Income Common Stockholders                               NaN  \n",
      "Net Income                                                   NaN  \n",
      "Net Income Including Noncontrolling Interests                NaN  \n",
      "Net Income Continuous Operations                             NaN  \n",
      "Tax Provision                                                NaN  \n",
      "Pretax Income                                                NaN  \n",
      "Other Income Expense                                         NaN  \n",
      "Other Non Operating Income Expenses                          NaN  \n",
      "Net Non Operating Interest Income Expense            890000000.0  \n",
      "Interest Expense Non Operating                      2873000000.0  \n",
      "Interest Income Non Operating                       3763000000.0  \n",
      "Operating Income                                             NaN  \n",
      "Operating Expense                                            NaN  \n",
      "Research And Development                                     NaN  \n",
      "Selling General And Administration                           NaN  \n",
      "Gross Profit                                                 NaN  \n",
      "Cost Of Revenue                                              NaN  \n",
      "Total Revenue                                                NaN  \n",
      "Operating Revenue                                            NaN  \n"
     ]
    }
   ],
   "source": [
    "financial_df = ticker.financials\n",
    "print(financial_df)\n"
   ]
  },
  {
   "cell_type": "code",
   "execution_count": 25,
   "id": "4d6b79cf",
   "metadata": {},
   "outputs": [],
   "source": [
    "import pandas as pd"
   ]
  },
  {
   "cell_type": "markdown",
   "id": "e297b0de",
   "metadata": {},
   "source": []
  },
  {
   "cell_type": "code",
   "execution_count": null,
   "id": "62a81422",
   "metadata": {},
   "outputs": [],
   "source": []
  }
 ],
 "metadata": {
  "kernelspec": {
   "display_name": "wrangling",
   "language": "python",
   "name": "python3"
  },
  "language_info": {
   "codemirror_mode": {
    "name": "ipython",
    "version": 3
   },
   "file_extension": ".py",
   "mimetype": "text/x-python",
   "name": "python",
   "nbconvert_exporter": "python",
   "pygments_lexer": "ipython3",
   "version": "3.13.5"
  }
 },
 "nbformat": 4,
 "nbformat_minor": 5
}
